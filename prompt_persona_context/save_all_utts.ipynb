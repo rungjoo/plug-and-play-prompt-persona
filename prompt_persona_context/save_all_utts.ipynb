{
 "cells": [
  {
   "cell_type": "code",
   "execution_count": 1,
   "id": "15c2326a-09e5-4cbb-8f47-0dba6158bab2",
   "metadata": {},
   "outputs": [],
   "source": [
    "import json\n",
    "persona_type = 'original'\n",
    "data_path = \"../dataset/personachat/test_both_\" + persona_type + \".json\"\n",
    "with open(data_path, \"r\") as json_file:\n",
    "    session_json = json.load(json_file)"
   ]
  },
  {
   "cell_type": "code",
   "execution_count": 2,
   "id": "3d32b302-15c9-42c4-bd69-a1b416de1e9f",
   "metadata": {},
   "outputs": [],
   "source": [
    "all_utts = set()\n",
    "for k, v in session_json.items():\n",
    "    context = v['context']\n",
    "    for utt in context:\n",
    "        all_utts.add(utt)\n",
    "    positive_response = v['postivie_response']\n",
    "    all_utts.add(positive_response)"
   ]
  },
  {
   "cell_type": "code",
   "execution_count": 3,
   "id": "6d1820ac-30e0-4abb-b8b0-dd4b02e592e2",
   "metadata": {},
   "outputs": [],
   "source": [
    "f = open('all_utts.txt', 'w')\n",
    "for utt in all_utts:\n",
    "    f.write(utt+'\\n')\n",
    "f.close()"
   ]
  },
  {
   "cell_type": "code",
   "execution_count": 4,
   "id": "85b81d8a-56ea-450b-931c-9978854a1b30",
   "metadata": {},
   "outputs": [],
   "source": [
    "f = open('all_utts.txt','r')\n",
    "all_utts = f.readlines()\n",
    "all_utts = [x.strip() for x in all_utts]\n",
    "f.close()"
   ]
  },
  {
   "cell_type": "code",
   "execution_count": 5,
   "id": "b1039cdd-d159-4572-af10-64f7d778b1da",
   "metadata": {},
   "outputs": [
    {
     "data": {
      "text/plain": [
       "'do you like watching mls or prefer world cup ?'"
      ]
     },
     "execution_count": 5,
     "metadata": {},
     "output_type": "execute_result"
    }
   ],
   "source": [
    "import random\n",
    "random.choice(all_utts)"
   ]
  },
  {
   "cell_type": "code",
   "execution_count": 3,
   "id": "ef6622cc-a460-4f60-9b29-9550000bd92b",
   "metadata": {},
   "outputs": [],
   "source": [
    "import io\n",
    "\n",
    "def load_vectors(fname):\n",
    "    fin = io.open(fname, 'r', encoding='utf-8', newline='\\n', errors='ignore')\n",
    "    n, d = map(int, fin.readline().split())\n",
    "    data = {}\n",
    "    for line in fin:\n",
    "        tokens = line.rstrip().split(' ')\n",
    "        data[tokens[0]] = map(float, tokens[1:])\n",
    "    return data"
   ]
  },
  {
   "cell_type": "code",
   "execution_count": null,
   "id": "6f880b27-557d-49f9-af2d-e94f84ab22da",
   "metadata": {},
   "outputs": [],
   "source": [
    "fname =\"../model/wiki-news-300d-1M.vec\"\n",
    "fasttext = load_vectors(fname)"
   ]
  },
  {
   "cell_type": "code",
   "execution_count": 1,
   "id": "f2b37cfe-7d6f-4f5f-8738-d3de39116a67",
   "metadata": {},
   "outputs": [
    {
     "ename": "NameError",
     "evalue": "name 'fasttext' is not defined",
     "output_type": "error",
     "traceback": [
      "\u001b[0;31m---------------------------------------------------------------------------\u001b[0m",
      "\u001b[0;31mNameError\u001b[0m                                 Traceback (most recent call last)",
      "Cell \u001b[0;32mIn[1], line 1\u001b[0m\n\u001b[0;32m----> 1\u001b[0m \u001b[38;5;28mlist\u001b[39m(\u001b[43mfasttext\u001b[49m\u001b[38;5;241m.\u001b[39mkeys())[:\u001b[38;5;241m10\u001b[39m]\n",
      "\u001b[0;31mNameError\u001b[0m: name 'fasttext' is not defined"
     ]
    }
   ],
   "source": [
    "list(fasttext.keys())[:10]"
   ]
  },
  {
   "cell_type": "code",
   "execution_count": null,
   "id": "2574086b-81ed-4a76-b8ec-f2a5124c7d03",
   "metadata": {},
   "outputs": [],
   "source": []
  }
 ],
 "metadata": {
  "kernelspec": {
   "display_name": "venv_p5",
   "language": "python",
   "name": "venv_p5"
  },
  "language_info": {
   "codemirror_mode": {
    "name": "ipython",
    "version": 3
   },
   "file_extension": ".py",
   "mimetype": "text/x-python",
   "name": "python",
   "nbconvert_exporter": "python",
   "pygments_lexer": "ipython3",
   "version": "3.8.10"
  }
 },
 "nbformat": 4,
 "nbformat_minor": 5
}
